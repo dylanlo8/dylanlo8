{
 "cells": [
  {
   "cell_type": "code",
   "execution_count": 1,
   "id": "8accfc8f",
   "metadata": {},
   "outputs": [],
   "source": [
    "import numpy as np\n",
    "import tensorflow as tf\n",
    "import pandas as pd"
   ]
  },
  {
   "cell_type": "code",
   "execution_count": 2,
   "id": "fcd8f1d0",
   "metadata": {},
   "outputs": [],
   "source": [
    "df = pd.read_csv(\"train.csv\")\n",
    "X = df.iloc[:,1:]\n",
    "y = df.iloc[:,0]"
   ]
  },
  {
   "cell_type": "code",
   "execution_count": 3,
   "id": "7b18c7a6",
   "metadata": {},
   "outputs": [],
   "source": [
    "X = X / 255\n",
    "#There are 10 unique digits"
   ]
  },
  {
   "cell_type": "code",
   "execution_count": 4,
   "id": "5d918a83",
   "metadata": {},
   "outputs": [],
   "source": [
    "from sklearn.model_selection import train_test_split\n",
    "X_train, X_test, y_train, y_test = train_test_split(X, y, test_size=0.2, random_state=5)"
   ]
  },
  {
   "cell_type": "code",
   "execution_count": 5,
   "id": "7aa7e2bb",
   "metadata": {},
   "outputs": [],
   "source": [
    "ann = tf.keras.models.Sequential()\n",
    "\n",
    "#Adding Layers\n",
    "ann.add(tf.keras.layers.Dense(units = 784,\n",
    "                              activation = 'relu'))\n",
    "ann.add(tf.keras.layers.Dense(units = 1300,\n",
    "                              activation = 'relu'))\n",
    "ann.add(tf.keras.layers.Dense(units = 1300,\n",
    "                              activation = 'relu'))\n",
    "#Sigmoid as it is a binary classification, it gives a probability of each class\n",
    "ann.add(tf.keras.layers.Dense(units = 10,\n",
    "                              activation = 'softmax'))"
   ]
  },
  {
   "cell_type": "code",
   "execution_count": 6,
   "id": "7e1b92a9",
   "metadata": {},
   "outputs": [],
   "source": [
    "ann.compile(optimizer = 'adam',\n",
    "            loss = 'sparse_categorical_crossentropy',\n",
    "            metrics = ['accuracy'])"
   ]
  },
  {
   "cell_type": "code",
   "execution_count": 7,
   "id": "6a5481ea",
   "metadata": {},
   "outputs": [
    {
     "name": "stdout",
     "output_type": "stream",
     "text": [
      "Epoch 1/40\n",
      "1050/1050 [==============================] - 11s 10ms/step - loss: 0.2446 - accuracy: 0.9238\n",
      "Epoch 2/40\n",
      "1050/1050 [==============================] - 11s 10ms/step - loss: 0.1207 - accuracy: 0.9645\n",
      "Epoch 3/40\n",
      "1050/1050 [==============================] - 11s 10ms/step - loss: 0.0827 - accuracy: 0.9754\n",
      "Epoch 4/40\n",
      "1050/1050 [==============================] - 10s 10ms/step - loss: 0.0652 - accuracy: 0.9805\n",
      "Epoch 5/40\n",
      "1050/1050 [==============================] - 10s 10ms/step - loss: 0.0575 - accuracy: 0.9830\n",
      "Epoch 6/40\n",
      "1050/1050 [==============================] - 10s 10ms/step - loss: 0.0486 - accuracy: 0.9859\n",
      "Epoch 7/40\n",
      "1050/1050 [==============================] - 11s 10ms/step - loss: 0.0427 - accuracy: 0.9876\n",
      "Epoch 8/40\n",
      "1050/1050 [==============================] - 10s 10ms/step - loss: 0.0351 - accuracy: 0.9903\n",
      "Epoch 9/40\n",
      "1050/1050 [==============================] - 10s 10ms/step - loss: 0.0313 - accuracy: 0.9908\n",
      "Epoch 10/40\n",
      "1050/1050 [==============================] - 11s 10ms/step - loss: 0.0341 - accuracy: 0.9912\n",
      "Epoch 11/40\n",
      "1050/1050 [==============================] - 11s 10ms/step - loss: 0.0311 - accuracy: 0.9920\n",
      "Epoch 12/40\n",
      "1050/1050 [==============================] - 10s 10ms/step - loss: 0.0317 - accuracy: 0.9925\n",
      "Epoch 13/40\n",
      "1050/1050 [==============================] - 10s 10ms/step - loss: 0.0283 - accuracy: 0.9938\n",
      "Epoch 14/40\n",
      "1050/1050 [==============================] - 10s 10ms/step - loss: 0.0230 - accuracy: 0.9936\n",
      "Epoch 15/40\n",
      "1050/1050 [==============================] - 11s 10ms/step - loss: 0.0246 - accuracy: 0.9941\n",
      "Epoch 16/40\n",
      "1050/1050 [==============================] - 11s 10ms/step - loss: 0.0222 - accuracy: 0.9942\n",
      "Epoch 17/40\n",
      "1050/1050 [==============================] - 11s 10ms/step - loss: 0.0226 - accuracy: 0.9951\n",
      "Epoch 18/40\n",
      "1050/1050 [==============================] - 11s 10ms/step - loss: 0.0205 - accuracy: 0.9952\n",
      "Epoch 19/40\n",
      "1050/1050 [==============================] - 11s 10ms/step - loss: 0.0232 - accuracy: 0.9955\n",
      "Epoch 20/40\n",
      "1050/1050 [==============================] - 11s 10ms/step - loss: 0.0240 - accuracy: 0.9947\n",
      "Epoch 21/40\n",
      "1050/1050 [==============================] - 11s 10ms/step - loss: 0.0145 - accuracy: 0.9962\n",
      "Epoch 22/40\n",
      "1050/1050 [==============================] - 11s 10ms/step - loss: 0.0212 - accuracy: 0.9957\n",
      "Epoch 23/40\n",
      "1050/1050 [==============================] - 11s 10ms/step - loss: 0.0192 - accuracy: 0.9959\n",
      "Epoch 24/40\n",
      "1050/1050 [==============================] - 11s 10ms/step - loss: 0.0127 - accuracy: 0.9971\n",
      "Epoch 25/40\n",
      "1050/1050 [==============================] - 11s 10ms/step - loss: 0.0299 - accuracy: 0.9945\n",
      "Epoch 26/40\n",
      "1050/1050 [==============================] - 11s 10ms/step - loss: 0.0163 - accuracy: 0.9966\n",
      "Epoch 27/40\n",
      "1050/1050 [==============================] - 11s 10ms/step - loss: 0.0165 - accuracy: 0.9973\n",
      "Epoch 28/40\n",
      "1050/1050 [==============================] - 11s 10ms/step - loss: 0.0167 - accuracy: 0.9967\n",
      "Epoch 29/40\n",
      "1050/1050 [==============================] - 11s 10ms/step - loss: 0.0169 - accuracy: 0.9968\n",
      "Epoch 30/40\n",
      "1050/1050 [==============================] - 11s 10ms/step - loss: 0.0182 - accuracy: 0.9961\n",
      "Epoch 31/40\n",
      "1050/1050 [==============================] - 11s 10ms/step - loss: 0.0230 - accuracy: 0.9961\n",
      "Epoch 32/40\n",
      "1050/1050 [==============================] - 11s 10ms/step - loss: 0.0171 - accuracy: 0.9970\n",
      "Epoch 33/40\n",
      "1050/1050 [==============================] - 11s 10ms/step - loss: 0.0134 - accuracy: 0.9974\n",
      "Epoch 34/40\n",
      "1050/1050 [==============================] - 11s 10ms/step - loss: 0.0166 - accuracy: 0.9971\n",
      "Epoch 35/40\n",
      "1050/1050 [==============================] - 11s 10ms/step - loss: 0.0149 - accuracy: 0.9967\n",
      "Epoch 36/40\n",
      "1050/1050 [==============================] - 11s 10ms/step - loss: 0.0210 - accuracy: 0.9966\n",
      "Epoch 37/40\n",
      "1050/1050 [==============================] - 11s 10ms/step - loss: 0.0101 - accuracy: 0.9981\n",
      "Epoch 38/40\n",
      "1050/1050 [==============================] - 11s 10ms/step - loss: 0.0169 - accuracy: 0.9969\n",
      "Epoch 39/40\n",
      "1050/1050 [==============================] - 11s 10ms/step - loss: 0.0116 - accuracy: 0.9976\n",
      "Epoch 40/40\n",
      "1050/1050 [==============================] - 11s 10ms/step - loss: 0.0212 - accuracy: 0.9961\n"
     ]
    },
    {
     "data": {
      "text/plain": [
       "<keras.callbacks.History at 0x24d96cb0340>"
      ]
     },
     "execution_count": 7,
     "metadata": {},
     "output_type": "execute_result"
    }
   ],
   "source": [
    "ann.fit(X_train, y_train, epochs = 40)"
   ]
  },
  {
   "cell_type": "code",
   "execution_count": 8,
   "id": "3a3c442b",
   "metadata": {},
   "outputs": [
    {
     "data": {
      "text/plain": [
       "array([[1.5804687e-11, 1.2207843e-05, 3.7240960e-05, ..., 2.2566371e-06,\n",
       "        1.5905857e-04, 9.2230421e-06],\n",
       "       [0.0000000e+00, 0.0000000e+00, 0.0000000e+00, ..., 0.0000000e+00,\n",
       "        0.0000000e+00, 2.7033000e-36],\n",
       "       [0.0000000e+00, 1.0000000e+00, 2.3158820e-37, ..., 0.0000000e+00,\n",
       "        1.9157444e-34, 0.0000000e+00],\n",
       "       ...,\n",
       "       [0.0000000e+00, 1.0048950e-37, 0.0000000e+00, ..., 0.0000000e+00,\n",
       "        1.0000000e+00, 0.0000000e+00],\n",
       "       [0.0000000e+00, 0.0000000e+00, 0.0000000e+00, ..., 4.1644697e-32,\n",
       "        1.8089177e-28, 3.3786823e-33],\n",
       "       [1.0000000e+00, 0.0000000e+00, 0.0000000e+00, ..., 0.0000000e+00,\n",
       "        0.0000000e+00, 0.0000000e+00]], dtype=float32)"
      ]
     },
     "execution_count": 8,
     "metadata": {},
     "output_type": "execute_result"
    }
   ],
   "source": [
    "predictions = ann.predict(X_test)\n",
    "predictions"
   ]
  },
  {
   "cell_type": "code",
   "execution_count": 39,
   "id": "93fd4836",
   "metadata": {},
   "outputs": [],
   "source": [
    "from numpy import argmax\n",
    "def get_digits(predictions):\n",
    "    digits = []\n",
    "    for i in range(0,len(predictions)):\n",
    "        digits.append(argmax(predictions[i]))\n",
    "    digits = np.array(digits)\n",
    "    return digits"
   ]
  },
  {
   "cell_type": "code",
   "execution_count": 33,
   "id": "6a29941f",
   "metadata": {},
   "outputs": [
    {
     "name": "stdout",
     "output_type": "stream",
     "text": [
      "0.9764285714285714\n",
      "[[794   0   2   1   0   1   5   0   1   4]\n",
      " [  0 931   1   1   0   1   0   1   3   0]\n",
      " [  1   0 796   3   1   1   1   1   5   0]\n",
      " [  0   2   6 870   0   9   0   0   4   5]\n",
      " [  0   2   3   0 785   0   2   3   0   6]\n",
      " [  1   0   1   7   2 731   7   0   8   3]\n",
      " [  7   0   1   0   1   1 800   0   4   1]\n",
      " [  1   0   7   6   0   0   0 884   2   1]\n",
      " [  2   1   6   4   4   3   1   1 743   2]\n",
      " [  0   1   1   6   9   4   0  13   3 868]]\n"
     ]
    }
   ],
   "source": [
    "from sklearn.metrics import accuracy_score\n",
    "from sklearn.metrics import confusion_matrix\n",
    "print(accuracy_score(digits, y_test))\n",
    "print(confusion_matrix(digits, y_test))"
   ]
  },
  {
   "cell_type": "code",
   "execution_count": 42,
   "id": "4675aaea",
   "metadata": {},
   "outputs": [],
   "source": [
    "submission = pd.read_csv(\"test.csv\")\n",
    "submission_predictions = ann.predict(submission)\n",
    "submisson_digits = get_digits(submission_predictions)"
   ]
  },
  {
   "cell_type": "code",
   "execution_count": 51,
   "id": "0060a012",
   "metadata": {},
   "outputs": [],
   "source": [
    "submission_df = pd.DataFrame(submisson_digits, columns=['Label'])\n",
    "submission_df.to_csv('submission.csv')"
   ]
  },
  {
   "cell_type": "code",
   "execution_count": 59,
   "id": "327eb88e",
   "metadata": {},
   "outputs": [
    {
     "data": {
      "text/html": [
       "<div>\n",
       "<style scoped>\n",
       "    .dataframe tbody tr th:only-of-type {\n",
       "        vertical-align: middle;\n",
       "    }\n",
       "\n",
       "    .dataframe tbody tr th {\n",
       "        vertical-align: top;\n",
       "    }\n",
       "\n",
       "    .dataframe thead th {\n",
       "        text-align: right;\n",
       "    }\n",
       "</style>\n",
       "<table border=\"1\" class=\"dataframe\">\n",
       "  <thead>\n",
       "    <tr style=\"text-align: right;\">\n",
       "      <th></th>\n",
       "      <th>Label</th>\n",
       "    </tr>\n",
       "  </thead>\n",
       "  <tbody>\n",
       "    <tr>\n",
       "      <th>0</th>\n",
       "      <td>2</td>\n",
       "    </tr>\n",
       "    <tr>\n",
       "      <th>1</th>\n",
       "      <td>0</td>\n",
       "    </tr>\n",
       "    <tr>\n",
       "      <th>2</th>\n",
       "      <td>9</td>\n",
       "    </tr>\n",
       "    <tr>\n",
       "      <th>3</th>\n",
       "      <td>9</td>\n",
       "    </tr>\n",
       "    <tr>\n",
       "      <th>4</th>\n",
       "      <td>3</td>\n",
       "    </tr>\n",
       "    <tr>\n",
       "      <th>...</th>\n",
       "      <td>...</td>\n",
       "    </tr>\n",
       "    <tr>\n",
       "      <th>27995</th>\n",
       "      <td>9</td>\n",
       "    </tr>\n",
       "    <tr>\n",
       "      <th>27996</th>\n",
       "      <td>7</td>\n",
       "    </tr>\n",
       "    <tr>\n",
       "      <th>27997</th>\n",
       "      <td>3</td>\n",
       "    </tr>\n",
       "    <tr>\n",
       "      <th>27998</th>\n",
       "      <td>9</td>\n",
       "    </tr>\n",
       "    <tr>\n",
       "      <th>27999</th>\n",
       "      <td>2</td>\n",
       "    </tr>\n",
       "  </tbody>\n",
       "</table>\n",
       "<p>28000 rows × 1 columns</p>\n",
       "</div>"
      ],
      "text/plain": [
       "       Label\n",
       "0          2\n",
       "1          0\n",
       "2          9\n",
       "3          9\n",
       "4          3\n",
       "...      ...\n",
       "27995      9\n",
       "27996      7\n",
       "27997      3\n",
       "27998      9\n",
       "27999      2\n",
       "\n",
       "[28000 rows x 1 columns]"
      ]
     },
     "execution_count": 59,
     "metadata": {},
     "output_type": "execute_result"
    }
   ],
   "source": [
    "submission_df"
   ]
  },
  {
   "cell_type": "code",
   "execution_count": null,
   "id": "253f6bd9",
   "metadata": {},
   "outputs": [],
   "source": []
  }
 ],
 "metadata": {
  "kernelspec": {
   "display_name": "Python 3 (ipykernel)",
   "language": "python",
   "name": "python3"
  },
  "language_info": {
   "codemirror_mode": {
    "name": "ipython",
    "version": 3
   },
   "file_extension": ".py",
   "mimetype": "text/x-python",
   "name": "python",
   "nbconvert_exporter": "python",
   "pygments_lexer": "ipython3",
   "version": "3.9.7"
  }
 },
 "nbformat": 4,
 "nbformat_minor": 5
}
