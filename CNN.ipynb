{
 "cells": [
  {
   "cell_type": "code",
   "execution_count": 4,
   "id": "0111b13f",
   "metadata": {},
   "outputs": [],
   "source": [
    "import tensorflow as tf\n",
    "from keras.preprocessing.image import ImageDataGenerator"
   ]
  },
  {
   "cell_type": "markdown",
   "id": "1ddb0811",
   "metadata": {},
   "source": [
    "# Pre-Processing"
   ]
  },
  {
   "cell_type": "markdown",
   "id": "9f0fb479",
   "metadata": {},
   "source": [
    "## Image Augmentation\n",
    "Implement Geometrical Transformations on Images -> Avoid Overfitting"
   ]
  },
  {
   "cell_type": "markdown",
   "id": "00413ecb",
   "metadata": {},
   "source": [
    "Pre-Processing the Training Set"
   ]
  },
  {
   "cell_type": "code",
   "execution_count": 5,
   "id": "2f12f8ba",
   "metadata": {},
   "outputs": [
    {
     "name": "stdout",
     "output_type": "stream",
     "text": [
      "Found 8000 images belonging to 2 classes.\n"
     ]
    }
   ],
   "source": [
    "train_datagen = ImageDataGenerator(\n",
    "        rescale=1./255,\n",
    "        shear_range=0.2,\n",
    "        zoom_range=0.2,\n",
    "        horizontal_flip=True)\n",
    "#Rescale -> All pixel values originally fall between 1 - 255 on greyscale -> Divide by 255 (now all fall within 0 and 1)\n",
    "\n",
    "training_set = train_datagen.flow_from_directory(\n",
    "        'dataset/training_set/',\n",
    "        target_size=(64, 64),\n",
    "        batch_size=32,\n",
    "        class_mode='binary')\n",
    "\n",
    "#class_mode can be binary / categorical, in this case it is binary"
   ]
  },
  {
   "cell_type": "markdown",
   "id": "f1fedb3d",
   "metadata": {},
   "source": [
    "Pre-processing test Set"
   ]
  },
  {
   "cell_type": "code",
   "execution_count": 6,
   "id": "14e3fbca",
   "metadata": {},
   "outputs": [
    {
     "name": "stdout",
     "output_type": "stream",
     "text": [
      "Found 2000 images belonging to 2 classes.\n"
     ]
    }
   ],
   "source": [
    "test_datagen = ImageDataGenerator(rescale=1./255)\n",
    "\n",
    "validation_set = test_datagen.flow_from_directory(\n",
    "        'dataset/test_set/',\n",
    "        target_size=(64, 64),\n",
    "        batch_size=32,\n",
    "        class_mode='binary')"
   ]
  },
  {
   "cell_type": "markdown",
   "id": "def06639",
   "metadata": {},
   "source": [
    "# Building the CNN"
   ]
  },
  {
   "cell_type": "markdown",
   "id": "778cf483",
   "metadata": {},
   "source": [
    "Initialise the CNN and Convolution"
   ]
  },
  {
   "cell_type": "code",
   "execution_count": 7,
   "id": "441ba366",
   "metadata": {},
   "outputs": [],
   "source": [
    "cnn = tf.keras.models.Sequential()\n",
    "cnn.add(tf.keras.layers.Conv2D(filters = 32,\n",
    "                               kernel_size = 3,\n",
    "                               activation = 'relu',\n",
    "                               input_shape = [64,64,3]))"
   ]
  },
  {
   "cell_type": "markdown",
   "id": "c9b85f5d",
   "metadata": {},
   "source": [
    "## Pooling"
   ]
  },
  {
   "cell_type": "code",
   "execution_count": 8,
   "id": "6bed01ad",
   "metadata": {},
   "outputs": [],
   "source": [
    "cnn.add(tf.keras.layers.MaxPool2D(pool_size = 2,\n",
    "                                  strides = 2))"
   ]
  },
  {
   "cell_type": "markdown",
   "id": "2b734858",
   "metadata": {},
   "source": [
    "## Adding Second Convolutional Layer"
   ]
  },
  {
   "cell_type": "code",
   "execution_count": 10,
   "id": "c988dd86",
   "metadata": {},
   "outputs": [],
   "source": [
    "#Input_shape is removed as it is only needed in the first layer\n",
    "cnn.add(tf.keras.layers.Conv2D(filters = 32,\n",
    "                               kernel_size = 3,\n",
    "                               activation = 'relu'))\n",
    "cnn.add(tf.keras.layers.MaxPool2D(pool_size = 2,\n",
    "                                  strides = 2))"
   ]
  },
  {
   "cell_type": "markdown",
   "id": "2b6e7adf",
   "metadata": {},
   "source": [
    "## Flattening"
   ]
  },
  {
   "cell_type": "code",
   "execution_count": 11,
   "id": "9cafec96",
   "metadata": {},
   "outputs": [],
   "source": [
    "cnn.add(tf.keras.layers.Flatten())"
   ]
  },
  {
   "cell_type": "markdown",
   "id": "8a6d42a7",
   "metadata": {},
   "source": [
    "## Full Connection"
   ]
  },
  {
   "cell_type": "code",
   "execution_count": 13,
   "id": "9ed9bd22",
   "metadata": {},
   "outputs": [],
   "source": [
    "cnn.add(tf.keras.layers.Dense(units = 128,\n",
    "                              activation = 'relu'))\n",
    "cnn.add(tf.keras.layers.Dense(units = 1,\n",
    "                              activation = 'sigmoid'))"
   ]
  },
  {
   "cell_type": "markdown",
   "id": "2577ad66",
   "metadata": {},
   "source": [
    "## Training the Model"
   ]
  },
  {
   "cell_type": "code",
   "execution_count": 14,
   "id": "1172ce99",
   "metadata": {},
   "outputs": [],
   "source": [
    "cnn.compile(optimizer = 'adam',\n",
    "            loss = 'binary_crossentropy',\n",
    "            metrics = 'accuracy')"
   ]
  },
  {
   "cell_type": "code",
   "execution_count": 15,
   "id": "0de89d2e",
   "metadata": {},
   "outputs": [
    {
     "name": "stdout",
     "output_type": "stream",
     "text": [
      "Epoch 1/25\n",
      "250/250 [==============================] - 47s 186ms/step - loss: 0.6717 - accuracy: 0.5840 - val_loss: 0.7196 - val_accuracy: 0.5725\n",
      "Epoch 2/25\n",
      "250/250 [==============================] - 22s 90ms/step - loss: 0.6013 - accuracy: 0.6736 - val_loss: 0.5713 - val_accuracy: 0.7080\n",
      "Epoch 3/25\n",
      "250/250 [==============================] - 22s 90ms/step - loss: 0.5566 - accuracy: 0.7151 - val_loss: 0.5390 - val_accuracy: 0.7370\n",
      "Epoch 4/25\n",
      "250/250 [==============================] - 22s 88ms/step - loss: 0.5316 - accuracy: 0.7314 - val_loss: 0.5499 - val_accuracy: 0.7300\n",
      "Epoch 5/25\n",
      "250/250 [==============================] - 22s 88ms/step - loss: 0.4974 - accuracy: 0.7558 - val_loss: 0.4880 - val_accuracy: 0.7740\n",
      "Epoch 6/25\n",
      "250/250 [==============================] - 22s 87ms/step - loss: 0.4733 - accuracy: 0.7690 - val_loss: 0.4842 - val_accuracy: 0.7805\n",
      "Epoch 7/25\n",
      "250/250 [==============================] - 22s 87ms/step - loss: 0.4619 - accuracy: 0.7796 - val_loss: 0.5025 - val_accuracy: 0.7545\n",
      "Epoch 8/25\n",
      "250/250 [==============================] - 22s 88ms/step - loss: 0.4466 - accuracy: 0.7895 - val_loss: 0.4945 - val_accuracy: 0.7600\n",
      "Epoch 9/25\n",
      "250/250 [==============================] - 22s 87ms/step - loss: 0.4232 - accuracy: 0.8034 - val_loss: 0.4990 - val_accuracy: 0.7790\n",
      "Epoch 10/25\n",
      "250/250 [==============================] - 22s 86ms/step - loss: 0.4070 - accuracy: 0.8148 - val_loss: 0.4885 - val_accuracy: 0.7750\n",
      "Epoch 11/25\n",
      "250/250 [==============================] - 22s 86ms/step - loss: 0.3923 - accuracy: 0.8179 - val_loss: 0.4738 - val_accuracy: 0.7945\n",
      "Epoch 12/25\n",
      "250/250 [==============================] - 22s 86ms/step - loss: 0.3761 - accuracy: 0.8304 - val_loss: 0.5296 - val_accuracy: 0.7835\n",
      "Epoch 13/25\n",
      "250/250 [==============================] - 22s 86ms/step - loss: 0.3558 - accuracy: 0.8411 - val_loss: 0.5025 - val_accuracy: 0.7810\n",
      "Epoch 14/25\n",
      "250/250 [==============================] - 22s 86ms/step - loss: 0.3346 - accuracy: 0.8530 - val_loss: 0.5232 - val_accuracy: 0.7760\n",
      "Epoch 15/25\n",
      "250/250 [==============================] - 22s 86ms/step - loss: 0.3246 - accuracy: 0.8599 - val_loss: 0.4895 - val_accuracy: 0.7890\n",
      "Epoch 16/25\n",
      "250/250 [==============================] - 22s 87ms/step - loss: 0.3092 - accuracy: 0.8650 - val_loss: 0.5193 - val_accuracy: 0.7885\n",
      "Epoch 17/25\n",
      "250/250 [==============================] - 22s 86ms/step - loss: 0.3002 - accuracy: 0.8708 - val_loss: 0.5054 - val_accuracy: 0.8050\n",
      "Epoch 18/25\n",
      "250/250 [==============================] - 22s 86ms/step - loss: 0.2728 - accuracy: 0.8831 - val_loss: 0.5557 - val_accuracy: 0.7760\n",
      "Epoch 19/25\n",
      "250/250 [==============================] - 22s 86ms/step - loss: 0.2802 - accuracy: 0.8826 - val_loss: 0.5312 - val_accuracy: 0.8025\n",
      "Epoch 20/25\n",
      "250/250 [==============================] - 22s 87ms/step - loss: 0.2556 - accuracy: 0.8896 - val_loss: 0.5593 - val_accuracy: 0.7775\n",
      "Epoch 21/25\n",
      "250/250 [==============================] - 21s 86ms/step - loss: 0.2437 - accuracy: 0.8999 - val_loss: 0.5855 - val_accuracy: 0.7850\n",
      "Epoch 22/25\n",
      "250/250 [==============================] - 22s 86ms/step - loss: 0.2294 - accuracy: 0.9050 - val_loss: 0.5634 - val_accuracy: 0.7825\n",
      "Epoch 23/25\n",
      "250/250 [==============================] - 22s 86ms/step - loss: 0.2084 - accuracy: 0.9155 - val_loss: 0.6002 - val_accuracy: 0.7870\n",
      "Epoch 24/25\n",
      "250/250 [==============================] - 22s 86ms/step - loss: 0.2054 - accuracy: 0.9176 - val_loss: 0.6026 - val_accuracy: 0.7875\n",
      "Epoch 25/25\n",
      "250/250 [==============================] - 21s 86ms/step - loss: 0.1984 - accuracy: 0.9187 - val_loss: 0.5832 - val_accuracy: 0.7935\n"
     ]
    },
    {
     "data": {
      "text/plain": [
       "<keras.callbacks.History at 0x1ca4020a3d0>"
      ]
     },
     "execution_count": 15,
     "metadata": {},
     "output_type": "execute_result"
    }
   ],
   "source": [
    "cnn.fit(x = training_set, validation_data = validation_set, epochs = 25)"
   ]
  },
  {
   "cell_type": "markdown",
   "id": "485bee2f",
   "metadata": {},
   "source": [
    "## Predicting a single prediction"
   ]
  },
  {
   "cell_type": "code",
   "execution_count": 16,
   "id": "4504229b",
   "metadata": {},
   "outputs": [],
   "source": [
    "import numpy as np\n",
    "from keras.preprocessing import image\n",
    "test_image = image.load_img('dataset/single_prediction/cat_or_dog_1.jpg', target_size = (64,64))\n",
    "#Convert Image(PIL) to array\n",
    "test_image = tf.keras.preprocessing.image.array_to_img(test_image)\n",
    "#Expanding the dimensions of the image for Batch Processing(?)\n",
    "test_image = np.expand_dims(test_image, axis = 0)\n",
    "result = cnn.predict(test_image/255.0)\n",
    "#First [0] access the 1st element in the batch of 32, second [0] is to retrieve the binary result\n",
    "if result[0][0] > 0.5:\n",
    "    prediction = 'Dog'\n",
    "else:\n",
    "    prediction = 'Cat'"
   ]
  },
  {
   "cell_type": "code",
   "execution_count": 17,
   "id": "6a921acc",
   "metadata": {},
   "outputs": [
    {
     "name": "stdout",
     "output_type": "stream",
     "text": [
      "Dog\n"
     ]
    }
   ],
   "source": [
    "print(prediction)"
   ]
  }
 ],
 "metadata": {
  "kernelspec": {
   "display_name": "Python 3 (ipykernel)",
   "language": "python",
   "name": "python3"
  },
  "language_info": {
   "codemirror_mode": {
    "name": "ipython",
    "version": 3
   },
   "file_extension": ".py",
   "mimetype": "text/x-python",
   "name": "python",
   "nbconvert_exporter": "python",
   "pygments_lexer": "ipython3",
   "version": "3.9.7"
  }
 },
 "nbformat": 4,
 "nbformat_minor": 5
}
