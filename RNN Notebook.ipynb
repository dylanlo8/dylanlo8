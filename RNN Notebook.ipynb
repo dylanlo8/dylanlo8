{
 "cells": [
  {
   "cell_type": "code",
   "execution_count": 1,
   "id": "0a48211a",
   "metadata": {},
   "outputs": [],
   "source": [
    "# Part 1 - Data Preprocessing\n",
    "\n",
    "# Importing the libraries\n",
    "import numpy as np\n",
    "import matplotlib.pyplot as plt\n",
    "import pandas as pd\n",
    "\n",
    "# Importing the training set\n",
    "dataset_train = pd.read_csv('Google_Stock_Price_Train.csv')\n",
    "training_set = dataset_train.iloc[:, 1:2].values\n",
    "\n",
    "# Feature Scaling\n",
    "from sklearn.preprocessing import MinMaxScaler\n",
    "sc = MinMaxScaler(feature_range = (0, 1))\n",
    "training_set_scaled = sc.fit_transform(training_set)"
   ]
  },
  {
   "cell_type": "code",
   "execution_count": 2,
   "id": "9b84b16e",
   "metadata": {},
   "outputs": [],
   "source": [
    "#60 Timesteps -> 60 MA? Past 60 Days"
   ]
  },
  {
   "cell_type": "code",
   "execution_count": 3,
   "id": "62cdde87",
   "metadata": {},
   "outputs": [],
   "source": [
    "X_train = []\n",
    "y_train = []\n",
    "\n",
    "#For Loop to save the past i - 60 days of Stock Prices (X values) together with i price (y). [Train Model with Past 60 days\n",
    "#price to predict price of i]\n",
    "for i in range(60, len(training_set_scaled)):\n",
    "    X_train.append(training_set_scaled[i-60:i, 0])\n",
    "    y_train.append(training_set_scaled[i, 0])\n",
    "X_train, y_train = np.array(X_train), np.array(y_train)"
   ]
  },
  {
   "cell_type": "code",
   "execution_count": 4,
   "id": "840778d6",
   "metadata": {},
   "outputs": [],
   "source": [
    "#Reshaping X_train into -> (sample size = 1198, timesteps == 60, num_features == 1)\n",
    "X_train = np.reshape(X_train, (X_train.shape[0], X_train.shape[1], 1))"
   ]
  },
  {
   "cell_type": "code",
   "execution_count": 5,
   "id": "b5f93105",
   "metadata": {},
   "outputs": [],
   "source": [
    "from keras.models import Sequential\n",
    "from keras.layers import Dense\n",
    "from keras.layers import LSTM\n",
    "from keras.layers import Dropout"
   ]
  },
  {
   "cell_type": "markdown",
   "id": "a29e48e5",
   "metadata": {},
   "source": [
    "## Initialising RNN"
   ]
  },
  {
   "cell_type": "code",
   "execution_count": null,
   "id": "8e389168",
   "metadata": {},
   "outputs": [],
   "source": [
    "regressor = Sequential()"
   ]
  },
  {
   "cell_type": "markdown",
   "id": "7c189b70",
   "metadata": {},
   "source": [
    "## First LSTM layer with Dropout Regularisation"
   ]
  },
  {
   "cell_type": "code",
   "execution_count": 6,
   "id": "1dfcc9f7",
   "metadata": {},
   "outputs": [],
   "source": [
    "#Units -> Neurons -> Higher Dimensionality\n",
    "#Set return_sequences = True -> Stacked LSTM Network\n",
    "regressor.add(LSTM(units = 50, return_sequences = True, input_shape = (X_train.shape[1], 1)))\n",
    "#20% of neurons will be dropped out after each iteration of training\n",
    "regressor.add(Dropout(rate = 0.2))"
   ]
  },
  {
   "cell_type": "markdown",
   "id": "f05e8226",
   "metadata": {},
   "source": [
    "## Second and Third LSTM layer with Dropout Regularisation"
   ]
  },
  {
   "cell_type": "code",
   "execution_count": 8,
   "id": "f8408eee",
   "metadata": {},
   "outputs": [],
   "source": [
    "regressor.add(LSTM(units = 50, return_sequences = True))\n",
    "regressor.add(Dropout(rate = 0.2))"
   ]
  },
  {
   "cell_type": "code",
   "execution_count": 9,
   "id": "eb9e8b14",
   "metadata": {},
   "outputs": [],
   "source": [
    "regressor.add(LSTM(units = 50, return_sequences = True))\n",
    "regressor.add(Dropout(rate = 0.2))"
   ]
  },
  {
   "cell_type": "markdown",
   "id": "af0ab0de",
   "metadata": {},
   "source": [
    "## Fourth LSTM (Last LSTM) Layer"
   ]
  },
  {
   "cell_type": "code",
   "execution_count": 10,
   "id": "b1118320",
   "metadata": {},
   "outputs": [],
   "source": [
    "#Set return_sequence = False for last layer\n",
    "regressor.add(LSTM(units = 50, return_sequences = False))\n",
    "regressor.add(Dropout(rate = 0.2))"
   ]
  },
  {
   "cell_type": "markdown",
   "id": "0b3a9077",
   "metadata": {},
   "source": [
    "## Output Layer"
   ]
  },
  {
   "cell_type": "code",
   "execution_count": 11,
   "id": "5e460426",
   "metadata": {},
   "outputs": [],
   "source": [
    "regressor.add(Dense(units = 1))"
   ]
  },
  {
   "cell_type": "markdown",
   "id": "09c598e4",
   "metadata": {},
   "source": [
    "## Compiling the RNN"
   ]
  },
  {
   "cell_type": "code",
   "execution_count": 13,
   "id": "74d0669e",
   "metadata": {},
   "outputs": [],
   "source": [
    "#RMSProp is a good optimiser for RNN (Usually)\n",
    "#Loss is MSE because it is a Regressor Problem, not cross_entropy\n",
    "regressor.compile(optimizer = 'adam', loss = 'mean_squared_error')"
   ]
  },
  {
   "cell_type": "code",
   "execution_count": 14,
   "id": "da0355a1",
   "metadata": {},
   "outputs": [
    {
     "name": "stdout",
     "output_type": "stream",
     "text": [
      "Epoch 1/100\n",
      "38/38 [==============================] - 6s 43ms/step - loss: 0.0417\n",
      "Epoch 2/100\n",
      "38/38 [==============================] - 2s 43ms/step - loss: 0.0073\n",
      "Epoch 3/100\n",
      "38/38 [==============================] - 2s 43ms/step - loss: 0.0060\n",
      "Epoch 4/100\n",
      "38/38 [==============================] - 2s 43ms/step - loss: 0.0060\n",
      "Epoch 5/100\n",
      "38/38 [==============================] - 2s 43ms/step - loss: 0.0060\n",
      "Epoch 6/100\n",
      "38/38 [==============================] - 2s 44ms/step - loss: 0.0054\n",
      "Epoch 7/100\n",
      "38/38 [==============================] - 2s 44ms/step - loss: 0.0057\n",
      "Epoch 8/100\n",
      "38/38 [==============================] - 2s 43ms/step - loss: 0.0051\n",
      "Epoch 9/100\n",
      "38/38 [==============================] - 2s 43ms/step - loss: 0.0050\n",
      "Epoch 10/100\n",
      "38/38 [==============================] - 2s 44ms/step - loss: 0.0049\n",
      "Epoch 11/100\n",
      "38/38 [==============================] - 2s 44ms/step - loss: 0.0052\n",
      "Epoch 12/100\n",
      "38/38 [==============================] - 2s 44ms/step - loss: 0.0051\n",
      "Epoch 13/100\n",
      "38/38 [==============================] - 2s 43ms/step - loss: 0.0048\n",
      "Epoch 14/100\n",
      "38/38 [==============================] - 2s 44ms/step - loss: 0.0041\n",
      "Epoch 15/100\n",
      "38/38 [==============================] - 2s 44ms/step - loss: 0.0046\n",
      "Epoch 16/100\n",
      "38/38 [==============================] - 2s 43ms/step - loss: 0.0041\n",
      "Epoch 17/100\n",
      "38/38 [==============================] - 2s 43ms/step - loss: 0.0042\n",
      "Epoch 18/100\n",
      "38/38 [==============================] - 2s 43ms/step - loss: 0.0042\n",
      "Epoch 19/100\n",
      "38/38 [==============================] - 2s 43ms/step - loss: 0.0036\n",
      "Epoch 20/100\n",
      "38/38 [==============================] - 2s 43ms/step - loss: 0.0037\n",
      "Epoch 21/100\n",
      "38/38 [==============================] - 2s 43ms/step - loss: 0.0039\n",
      "Epoch 22/100\n",
      "38/38 [==============================] - 2s 43ms/step - loss: 0.0041\n",
      "Epoch 23/100\n",
      "38/38 [==============================] - 2s 44ms/step - loss: 0.0039\n",
      "Epoch 24/100\n",
      "38/38 [==============================] - 2s 43ms/step - loss: 0.0043\n",
      "Epoch 25/100\n",
      "38/38 [==============================] - 2s 43ms/step - loss: 0.0033\n",
      "Epoch 26/100\n",
      "38/38 [==============================] - 2s 43ms/step - loss: 0.0036\n",
      "Epoch 27/100\n",
      "38/38 [==============================] - 2s 43ms/step - loss: 0.0037\n",
      "Epoch 28/100\n",
      "38/38 [==============================] - 2s 43ms/step - loss: 0.0034\n",
      "Epoch 29/100\n",
      "38/38 [==============================] - 2s 43ms/step - loss: 0.0035\n",
      "Epoch 30/100\n",
      "38/38 [==============================] - 2s 43ms/step - loss: 0.0034\n",
      "Epoch 31/100\n",
      "38/38 [==============================] - 2s 43ms/step - loss: 0.0033\n",
      "Epoch 32/100\n",
      "38/38 [==============================] - 2s 43ms/step - loss: 0.0029\n",
      "Epoch 33/100\n",
      "38/38 [==============================] - 2s 44ms/step - loss: 0.0035\n",
      "Epoch 34/100\n",
      "38/38 [==============================] - 2s 43ms/step - loss: 0.0032\n",
      "Epoch 35/100\n",
      "38/38 [==============================] - 2s 43ms/step - loss: 0.0030\n",
      "Epoch 36/100\n",
      "38/38 [==============================] - 2s 44ms/step - loss: 0.0030\n",
      "Epoch 37/100\n",
      "38/38 [==============================] - 2s 43ms/step - loss: 0.0029\n",
      "Epoch 38/100\n",
      "38/38 [==============================] - 2s 43ms/step - loss: 0.0032\n",
      "Epoch 39/100\n",
      "38/38 [==============================] - 2s 42ms/step - loss: 0.0030\n",
      "Epoch 40/100\n",
      "38/38 [==============================] - 2s 42ms/step - loss: 0.0033\n",
      "Epoch 41/100\n",
      "38/38 [==============================] - 2s 43ms/step - loss: 0.0030\n",
      "Epoch 42/100\n",
      "38/38 [==============================] - 2s 43ms/step - loss: 0.0028\n",
      "Epoch 43/100\n",
      "38/38 [==============================] - 2s 44ms/step - loss: 0.0028\n",
      "Epoch 44/100\n",
      "38/38 [==============================] - 2s 43ms/step - loss: 0.0025\n",
      "Epoch 45/100\n",
      "38/38 [==============================] - 2s 43ms/step - loss: 0.0028\n",
      "Epoch 46/100\n",
      "38/38 [==============================] - 2s 43ms/step - loss: 0.0026\n",
      "Epoch 47/100\n",
      "38/38 [==============================] - 2s 42ms/step - loss: 0.0026\n",
      "Epoch 48/100\n",
      "38/38 [==============================] - 2s 43ms/step - loss: 0.0024\n",
      "Epoch 49/100\n",
      "38/38 [==============================] - 2s 43ms/step - loss: 0.0027\n",
      "Epoch 50/100\n",
      "38/38 [==============================] - 2s 42ms/step - loss: 0.0025\n",
      "Epoch 51/100\n",
      "38/38 [==============================] - 2s 42ms/step - loss: 0.0024\n",
      "Epoch 52/100\n",
      "38/38 [==============================] - 2s 43ms/step - loss: 0.0025\n",
      "Epoch 53/100\n",
      "38/38 [==============================] - 2s 45ms/step - loss: 0.0025\n",
      "Epoch 54/100\n",
      "38/38 [==============================] - 2s 44ms/step - loss: 0.0024\n",
      "Epoch 55/100\n",
      "38/38 [==============================] - 2s 43ms/step - loss: 0.0027\n",
      "Epoch 56/100\n",
      "38/38 [==============================] - 2s 43ms/step - loss: 0.0028\n",
      "Epoch 57/100\n",
      "38/38 [==============================] - 2s 43ms/step - loss: 0.0026\n",
      "Epoch 58/100\n",
      "38/38 [==============================] - 2s 43ms/step - loss: 0.0024\n",
      "Epoch 59/100\n",
      "38/38 [==============================] - 2s 43ms/step - loss: 0.0031\n",
      "Epoch 60/100\n",
      "38/38 [==============================] - 2s 43ms/step - loss: 0.0026\n",
      "Epoch 61/100\n",
      "38/38 [==============================] - 2s 43ms/step - loss: 0.0023\n",
      "Epoch 62/100\n",
      "38/38 [==============================] - 2s 43ms/step - loss: 0.0023\n",
      "Epoch 63/100\n",
      "38/38 [==============================] - 2s 44ms/step - loss: 0.0025\n",
      "Epoch 64/100\n",
      "38/38 [==============================] - 2s 43ms/step - loss: 0.0021\n",
      "Epoch 65/100\n",
      "38/38 [==============================] - 2s 43ms/step - loss: 0.0022\n",
      "Epoch 66/100\n",
      "38/38 [==============================] - 2s 43ms/step - loss: 0.0021\n",
      "Epoch 67/100\n",
      "38/38 [==============================] - 2s 43ms/step - loss: 0.0022\n",
      "Epoch 68/100\n",
      "38/38 [==============================] - 2s 43ms/step - loss: 0.0019\n",
      "Epoch 69/100\n",
      "38/38 [==============================] - 2s 43ms/step - loss: 0.0021\n",
      "Epoch 70/100\n",
      "38/38 [==============================] - 2s 43ms/step - loss: 0.0019\n",
      "Epoch 71/100\n",
      "38/38 [==============================] - 2s 43ms/step - loss: 0.0019\n",
      "Epoch 72/100\n",
      "38/38 [==============================] - 2s 43ms/step - loss: 0.0019\n",
      "Epoch 73/100\n",
      "38/38 [==============================] - 2s 43ms/step - loss: 0.0019\n",
      "Epoch 74/100\n",
      "38/38 [==============================] - 2s 43ms/step - loss: 0.0020\n",
      "Epoch 75/100\n",
      "38/38 [==============================] - 2s 43ms/step - loss: 0.0020\n",
      "Epoch 76/100\n",
      "38/38 [==============================] - 2s 42ms/step - loss: 0.0020\n",
      "Epoch 77/100\n",
      "38/38 [==============================] - 2s 43ms/step - loss: 0.0020\n",
      "Epoch 78/100\n",
      "38/38 [==============================] - 2s 43ms/step - loss: 0.0017\n",
      "Epoch 79/100\n",
      "38/38 [==============================] - 2s 43ms/step - loss: 0.0018\n",
      "Epoch 80/100\n",
      "38/38 [==============================] - 2s 42ms/step - loss: 0.0021\n",
      "Epoch 81/100\n",
      "38/38 [==============================] - 2s 43ms/step - loss: 0.0018\n",
      "Epoch 82/100\n",
      "38/38 [==============================] - 2s 44ms/step - loss: 0.0019\n",
      "Epoch 83/100\n",
      "38/38 [==============================] - 2s 43ms/step - loss: 0.0018\n",
      "Epoch 84/100\n",
      "38/38 [==============================] - 2s 43ms/step - loss: 0.0016\n",
      "Epoch 85/100\n",
      "38/38 [==============================] - 2s 43ms/step - loss: 0.0016\n",
      "Epoch 86/100\n",
      "38/38 [==============================] - 2s 43ms/step - loss: 0.0018\n",
      "Epoch 87/100\n",
      "38/38 [==============================] - 2s 43ms/step - loss: 0.0017\n",
      "Epoch 88/100\n",
      "38/38 [==============================] - 2s 43ms/step - loss: 0.0016\n",
      "Epoch 89/100\n",
      "38/38 [==============================] - 2s 44ms/step - loss: 0.0018\n",
      "Epoch 90/100\n",
      "38/38 [==============================] - 2s 43ms/step - loss: 0.0017\n",
      "Epoch 91/100\n",
      "38/38 [==============================] - 2s 43ms/step - loss: 0.0016\n",
      "Epoch 92/100\n",
      "38/38 [==============================] - 2s 44ms/step - loss: 0.0019\n",
      "Epoch 93/100\n",
      "38/38 [==============================] - 2s 44ms/step - loss: 0.0017\n",
      "Epoch 94/100\n",
      "38/38 [==============================] - 2s 43ms/step - loss: 0.0018\n",
      "Epoch 95/100\n",
      "38/38 [==============================] - 2s 43ms/step - loss: 0.0018\n",
      "Epoch 96/100\n",
      "38/38 [==============================] - 2s 42ms/step - loss: 0.0016\n",
      "Epoch 97/100\n",
      "38/38 [==============================] - 2s 42ms/step - loss: 0.0016\n",
      "Epoch 98/100\n",
      "38/38 [==============================] - 2s 43ms/step - loss: 0.0016\n",
      "Epoch 99/100\n",
      "38/38 [==============================] - 2s 43ms/step - loss: 0.0016\n",
      "Epoch 100/100\n",
      "38/38 [==============================] - 2s 43ms/step - loss: 0.0015\n"
     ]
    },
    {
     "data": {
      "text/plain": [
       "<keras.callbacks.History at 0x209f7fba190>"
      ]
     },
     "execution_count": 14,
     "metadata": {},
     "output_type": "execute_result"
    }
   ],
   "source": [
    "regressor.fit(X_train, y_train, epochs = 100, batch_size = 32)"
   ]
  },
  {
   "cell_type": "code",
   "execution_count": 15,
   "id": "6ad62d72",
   "metadata": {},
   "outputs": [],
   "source": [
    "dataset_test = pd.read_csv('Google_Stock_Price_Test.csv')\n",
    "real_stock_values = dataset_train.iloc[:, 1:2].values"
   ]
  },
  {
   "cell_type": "code",
   "execution_count": 30,
   "id": "5d136e42",
   "metadata": {},
   "outputs": [],
   "source": [
    "dataset_total = pd.concat((dataset_train['Open'], dataset_test['Open']), axis = 0)\n",
    "inputs = dataset_total[len(dataset_train) - 60:].values"
   ]
  },
  {
   "cell_type": "code",
   "execution_count": 33,
   "id": "a8af2696",
   "metadata": {},
   "outputs": [],
   "source": [
    "inputs = inputs.reshape(-1,1)\n",
    "#Do Not Fit_transform as data leakage will occur\n",
    "inputs = sc.transform(inputs)"
   ]
  },
  {
   "cell_type": "code",
   "execution_count": 36,
   "id": "702d9e71",
   "metadata": {},
   "outputs": [],
   "source": [
    "X_test = []\n",
    "for i in range(60, 80):\n",
    "    X_test.append(inputs[i-60:i, 0])\n",
    "X_test = np.array(X_test)"
   ]
  },
  {
   "cell_type": "code",
   "execution_count": 37,
   "id": "eb84fe69",
   "metadata": {},
   "outputs": [],
   "source": [
    "X_test = np.reshape(X_test, (X_test.shape[0], X_test.shape[1], 1))"
   ]
  },
  {
   "cell_type": "code",
   "execution_count": 41,
   "id": "7002b1f6",
   "metadata": {},
   "outputs": [
    {
     "data": {
      "text/plain": [
       "array([[768.84973],\n",
       "       [766.3707 ],\n",
       "       [766.31476],\n",
       "       [767.2335 ],\n",
       "       [769.8338 ],\n",
       "       [774.73425],\n",
       "       [779.2754 ],\n",
       "       [781.0395 ],\n",
       "       [781.2381 ],\n",
       "       [780.97144],\n",
       "       [780.71075],\n",
       "       [780.4766 ],\n",
       "       [780.4043 ],\n",
       "       [781.05426],\n",
       "       [782.16   ],\n",
       "       [786.495  ],\n",
       "       [792.84674],\n",
       "       [799.56396],\n",
       "       [803.19635],\n",
       "       [799.6757 ]], dtype=float32)"
      ]
     },
     "execution_count": 41,
     "metadata": {},
     "output_type": "execute_result"
    }
   ],
   "source": [
    "predictions = regressor.predict(X_test)\n",
    "#Inverse transform values\n",
    "predictions = sc.inverse_transform(predictions)"
   ]
  },
  {
   "cell_type": "code",
   "execution_count": 52,
   "id": "39a92d62",
   "metadata": {},
   "outputs": [
    {
     "data": {
      "image/png": "[encoded data removed]",
      "text/plain": [
       "<Figure size 432x288 with 1 Axes>"
      ]
     },
     "metadata": {
      "needs_background": "light"
     },
     "output_type": "display_data"
    }
   ],
   "source": [
    "plt.plot(dataset_test['Open'], color = 'red', label = 'Real Stock Price')\n",
    "plt.plot(predictions, color = 'blue', label = 'Predicted Stock Price')\n",
    "plt.xlabel('Time')\n",
    "plt.ylabel('Stock Price')\n",
    "plt.legend()\n",
    "plt.show()"
   ]
  },
  {
   "cell_type": "code",
   "execution_count": null,
   "id": "71f8d2ad",
   "metadata": {},
   "outputs": [],
   "source": []
  },
  {
   "cell_type": "code",
   "execution_count": null,
   "id": "dbb959cd",
   "metadata": {},
   "outputs": [],
   "source": []
  }
 ],
 "metadata": {
  "kernelspec": {
   "display_name": "Python 3 (ipykernel)",
   "language": "python",
   "name": "python3"
  },
  "language_info": {
   "codemirror_mode": {
    "name": "ipython",
    "version": 3
   },
   "file_extension": ".py",
   "mimetype": "text/x-python",
   "name": "python",
   "nbconvert_exporter": "python",
   "pygments_lexer": "ipython3",
   "version": "3.9.7"
  }
 },
 "nbformat": 4,
 "nbformat_minor": 5
}
