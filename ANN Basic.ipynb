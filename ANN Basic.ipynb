{
 "cells": [
  {
   "cell_type": "code",
   "execution_count": 1,
   "id": "ee9904bf",
   "metadata": {},
   "outputs": [],
   "source": [
    "import numpy as np\n",
    "import tensorflow as tf\n",
    "import pandas as pd"
   ]
  },
  {
   "cell_type": "code",
   "execution_count": 2,
   "id": "8a1d46fc",
   "metadata": {},
   "outputs": [],
   "source": [
    "df = pd.read_csv(\"Churn_Modelling.csv\")\n",
    "X = df.iloc[:,:-1]\n",
    "y = df.iloc[:,-1]"
   ]
  },
  {
   "cell_type": "code",
   "execution_count": 3,
   "id": "6b436227",
   "metadata": {},
   "outputs": [
    {
     "data": {
      "text/html": [
       "<div>\n",
       "<style scoped>\n",
       "    .dataframe tbody tr th:only-of-type {\n",
       "        vertical-align: middle;\n",
       "    }\n",
       "\n",
       "    .dataframe tbody tr th {\n",
       "        vertical-align: top;\n",
       "    }\n",
       "\n",
       "    .dataframe thead th {\n",
       "        text-align: right;\n",
       "    }\n",
       "</style>\n",
       "<table border=\"1\" class=\"dataframe\">\n",
       "  <thead>\n",
       "    <tr style=\"text-align: right;\">\n",
       "      <th></th>\n",
       "      <th>RowNumber</th>\n",
       "      <th>CustomerId</th>\n",
       "      <th>Surname</th>\n",
       "      <th>CreditScore</th>\n",
       "      <th>Geography</th>\n",
       "      <th>Gender</th>\n",
       "      <th>Age</th>\n",
       "      <th>Tenure</th>\n",
       "      <th>Balance</th>\n",
       "      <th>NumOfProducts</th>\n",
       "      <th>HasCrCard</th>\n",
       "      <th>IsActiveMember</th>\n",
       "      <th>EstimatedSalary</th>\n",
       "      <th>Exited</th>\n",
       "    </tr>\n",
       "  </thead>\n",
       "  <tbody>\n",
       "    <tr>\n",
       "      <th>0</th>\n",
       "      <td>1</td>\n",
       "      <td>15634602</td>\n",
       "      <td>Hargrave</td>\n",
       "      <td>619</td>\n",
       "      <td>France</td>\n",
       "      <td>Female</td>\n",
       "      <td>42</td>\n",
       "      <td>2</td>\n",
       "      <td>0.00</td>\n",
       "      <td>1</td>\n",
       "      <td>1</td>\n",
       "      <td>1</td>\n",
       "      <td>101348.88</td>\n",
       "      <td>1</td>\n",
       "    </tr>\n",
       "    <tr>\n",
       "      <th>1</th>\n",
       "      <td>2</td>\n",
       "      <td>15647311</td>\n",
       "      <td>Hill</td>\n",
       "      <td>608</td>\n",
       "      <td>Spain</td>\n",
       "      <td>Female</td>\n",
       "      <td>41</td>\n",
       "      <td>1</td>\n",
       "      <td>83807.86</td>\n",
       "      <td>1</td>\n",
       "      <td>0</td>\n",
       "      <td>1</td>\n",
       "      <td>112542.58</td>\n",
       "      <td>0</td>\n",
       "    </tr>\n",
       "    <tr>\n",
       "      <th>2</th>\n",
       "      <td>3</td>\n",
       "      <td>15619304</td>\n",
       "      <td>Onio</td>\n",
       "      <td>502</td>\n",
       "      <td>France</td>\n",
       "      <td>Female</td>\n",
       "      <td>42</td>\n",
       "      <td>8</td>\n",
       "      <td>159660.80</td>\n",
       "      <td>3</td>\n",
       "      <td>1</td>\n",
       "      <td>0</td>\n",
       "      <td>113931.57</td>\n",
       "      <td>1</td>\n",
       "    </tr>\n",
       "    <tr>\n",
       "      <th>3</th>\n",
       "      <td>4</td>\n",
       "      <td>15701354</td>\n",
       "      <td>Boni</td>\n",
       "      <td>699</td>\n",
       "      <td>France</td>\n",
       "      <td>Female</td>\n",
       "      <td>39</td>\n",
       "      <td>1</td>\n",
       "      <td>0.00</td>\n",
       "      <td>2</td>\n",
       "      <td>0</td>\n",
       "      <td>0</td>\n",
       "      <td>93826.63</td>\n",
       "      <td>0</td>\n",
       "    </tr>\n",
       "    <tr>\n",
       "      <th>4</th>\n",
       "      <td>5</td>\n",
       "      <td>15737888</td>\n",
       "      <td>Mitchell</td>\n",
       "      <td>850</td>\n",
       "      <td>Spain</td>\n",
       "      <td>Female</td>\n",
       "      <td>43</td>\n",
       "      <td>2</td>\n",
       "      <td>125510.82</td>\n",
       "      <td>1</td>\n",
       "      <td>1</td>\n",
       "      <td>1</td>\n",
       "      <td>79084.10</td>\n",
       "      <td>0</td>\n",
       "    </tr>\n",
       "  </tbody>\n",
       "</table>\n",
       "</div>"
      ],
      "text/plain": [
       "   RowNumber  CustomerId   Surname  CreditScore Geography  Gender  Age  \\\n",
       "0          1    15634602  Hargrave          619    France  Female   42   \n",
       "1          2    15647311      Hill          608     Spain  Female   41   \n",
       "2          3    15619304      Onio          502    France  Female   42   \n",
       "3          4    15701354      Boni          699    France  Female   39   \n",
       "4          5    15737888  Mitchell          850     Spain  Female   43   \n",
       "\n",
       "   Tenure    Balance  NumOfProducts  HasCrCard  IsActiveMember  \\\n",
       "0       2       0.00              1          1               1   \n",
       "1       1   83807.86              1          0               1   \n",
       "2       8  159660.80              3          1               0   \n",
       "3       1       0.00              2          0               0   \n",
       "4       2  125510.82              1          1               1   \n",
       "\n",
       "   EstimatedSalary  Exited  \n",
       "0        101348.88       1  \n",
       "1        112542.58       0  \n",
       "2        113931.57       1  \n",
       "3         93826.63       0  \n",
       "4         79084.10       0  "
      ]
     },
     "execution_count": 3,
     "metadata": {},
     "output_type": "execute_result"
    }
   ],
   "source": [
    "df.head(5)"
   ]
  },
  {
   "cell_type": "markdown",
   "id": "a03461d6",
   "metadata": {},
   "source": [
    "# Remove Unnecessary Columns\n",
    "Irrelevant Columns : RowNumber, CustomerId, Surname"
   ]
  },
  {
   "cell_type": "code",
   "execution_count": 4,
   "id": "d269244b",
   "metadata": {},
   "outputs": [],
   "source": [
    "X.drop(['RowNumber','CustomerId','Surname'], axis=1, inplace=True)"
   ]
  },
  {
   "cell_type": "markdown",
   "id": "c36ada12",
   "metadata": {},
   "source": [
    "# Encoding Categorical Data"
   ]
  },
  {
   "cell_type": "code",
   "execution_count": 5,
   "id": "112b9e4a",
   "metadata": {},
   "outputs": [],
   "source": [
    "#LabelEncoding Gender Column\n",
    "from sklearn.preprocessing import LabelEncoder\n",
    "encoder = LabelEncoder()\n",
    "X['Gender'] = encoder.fit_transform(X['Gender'])"
   ]
  },
  {
   "cell_type": "code",
   "execution_count": 6,
   "id": "c809cf50",
   "metadata": {},
   "outputs": [],
   "source": [
    "#Encoding Geography Column into a Binary Matrix\n",
    "from sklearn.preprocessing import LabelBinarizer\n",
    "encoder = LabelBinarizer()\n",
    "geo_encoded = pd.DataFrame(encoder.fit_transform(X['Geography']), columns=['Geo_1','Geo_2','Geo_3'])"
   ]
  },
  {
   "cell_type": "code",
   "execution_count": 7,
   "id": "ed8b9505",
   "metadata": {},
   "outputs": [],
   "source": [
    "#Adding Binary Matrix to X\n",
    "X = pd.concat([X, geo_encoded], axis=1)"
   ]
  },
  {
   "cell_type": "code",
   "execution_count": 8,
   "id": "8b6b9acd",
   "metadata": {},
   "outputs": [],
   "source": [
    "X.drop('Geography', axis=1, inplace=True)"
   ]
  },
  {
   "cell_type": "markdown",
   "id": "ab0fc453",
   "metadata": {},
   "source": [
    "# Train-Test-Split"
   ]
  },
  {
   "cell_type": "code",
   "execution_count": 9,
   "id": "d3040cc1",
   "metadata": {},
   "outputs": [],
   "source": [
    "from sklearn.model_selection import train_test_split\n",
    "X_train, X_test, y_train, y_test = train_test_split(X, y, test_size=0.2, random_state=0)"
   ]
  },
  {
   "cell_type": "markdown",
   "id": "22c1a300",
   "metadata": {},
   "source": [
    "# Feature Scaling on all Features (Very Important for Deep Learning)"
   ]
  },
  {
   "cell_type": "code",
   "execution_count": 10,
   "id": "332f0ae7",
   "metadata": {},
   "outputs": [],
   "source": [
    "from sklearn.preprocessing import StandardScaler\n",
    "scaler = StandardScaler()\n",
    "X_train = scaler.fit_transform(X_train)\n",
    "X_test = scaler.fit_transform(X_test)"
   ]
  },
  {
   "cell_type": "markdown",
   "id": "4447b20a",
   "metadata": {},
   "source": [
    "# Building the NN "
   ]
  },
  {
   "cell_type": "code",
   "execution_count": 15,
   "id": "7f60e99a",
   "metadata": {},
   "outputs": [],
   "source": [
    "#Initialising the ANN\n",
    "#ANN is a sequence of layers\n",
    "ann = tf.keras.models.Sequential()\n",
    "\n",
    "#Adding Layers\n",
    "ann.add(tf.keras.layers.Dense(units = 6,\n",
    "                              activation = 'relu'))\n",
    "ann.add(tf.keras.layers.Dense(units = 8,\n",
    "                              activation = 'relu'))\n",
    "ann.add(tf.keras.layers.Dense(units = 8,\n",
    "                              activation = 'relu'))\n",
    "#Sigmoid as it is a binary classification, it gives a probability of each class\n",
    "ann.add(tf.keras.layers.Dense(units = 1,\n",
    "                              activation = 'sigmoid'))"
   ]
  },
  {
   "cell_type": "markdown",
   "id": "910a73de",
   "metadata": {},
   "source": [
    "# Compiling the NN"
   ]
  },
  {
   "cell_type": "code",
   "execution_count": 16,
   "id": "b5713ad0",
   "metadata": {},
   "outputs": [],
   "source": [
    "#Binary -> Loss Function must be binary_crossentropy\n",
    "#If Non-Binary Classification -> Loss Function = Categorical_crossentropy -> Last Layer = Softmax\n",
    "ann.compile(optimizer = 'adam',\n",
    "            loss = 'binary_crossentropy',\n",
    "            metrics = ['accuracy'])"
   ]
  },
  {
   "cell_type": "markdown",
   "id": "48b7680d",
   "metadata": {},
   "source": [
    "# Training the NN"
   ]
  },
  {
   "cell_type": "code",
   "execution_count": 17,
   "id": "1e48378b",
   "metadata": {},
   "outputs": [
    {
     "name": "stdout",
     "output_type": "stream",
     "text": [
      "Epoch 1/100\n",
      "250/250 [==============================] - 0s 429us/step - loss: 0.5421 - accuracy: 0.7558\n",
      "Epoch 2/100\n",
      "250/250 [==============================] - 0s 422us/step - loss: 0.4583 - accuracy: 0.7947\n",
      "Epoch 3/100\n",
      "250/250 [==============================] - 0s 416us/step - loss: 0.4347 - accuracy: 0.8075\n",
      "Epoch 4/100\n",
      "250/250 [==============================] - 0s 429us/step - loss: 0.4225 - accuracy: 0.8151\n",
      "Epoch 5/100\n",
      "250/250 [==============================] - 0s 425us/step - loss: 0.4132 - accuracy: 0.8224\n",
      "Epoch 6/100\n",
      "250/250 [==============================] - 0s 430us/step - loss: 0.4012 - accuracy: 0.8294\n",
      "Epoch 7/100\n",
      "250/250 [==============================] - 0s 426us/step - loss: 0.3841 - accuracy: 0.8409\n",
      "Epoch 8/100\n",
      "250/250 [==============================] - 0s 421us/step - loss: 0.3687 - accuracy: 0.8468\n",
      "Epoch 9/100\n",
      "250/250 [==============================] - 0s 418us/step - loss: 0.3602 - accuracy: 0.8505\n",
      "Epoch 10/100\n",
      "250/250 [==============================] - 0s 414us/step - loss: 0.3558 - accuracy: 0.8522\n",
      "Epoch 11/100\n",
      "250/250 [==============================] - 0s 414us/step - loss: 0.3533 - accuracy: 0.8539\n",
      "Epoch 12/100\n",
      "250/250 [==============================] - 0s 419us/step - loss: 0.3521 - accuracy: 0.8539\n",
      "Epoch 13/100\n",
      "250/250 [==============================] - 0s 415us/step - loss: 0.3497 - accuracy: 0.8556\n",
      "Epoch 14/100\n",
      "250/250 [==============================] - 0s 418us/step - loss: 0.3490 - accuracy: 0.8558\n",
      "Epoch 15/100\n",
      "250/250 [==============================] - 0s 416us/step - loss: 0.3478 - accuracy: 0.8566\n",
      "Epoch 16/100\n",
      "250/250 [==============================] - 0s 425us/step - loss: 0.3472 - accuracy: 0.8580\n",
      "Epoch 17/100\n",
      "250/250 [==============================] - 0s 417us/step - loss: 0.3458 - accuracy: 0.8590\n",
      "Epoch 18/100\n",
      "250/250 [==============================] - 0s 414us/step - loss: 0.3451 - accuracy: 0.8583\n",
      "Epoch 19/100\n",
      "250/250 [==============================] - 0s 414us/step - loss: 0.3447 - accuracy: 0.8584\n",
      "Epoch 20/100\n",
      "250/250 [==============================] - 0s 421us/step - loss: 0.3440 - accuracy: 0.8610\n",
      "Epoch 21/100\n",
      "250/250 [==============================] - 0s 418us/step - loss: 0.3433 - accuracy: 0.8604\n",
      "Epoch 22/100\n",
      "250/250 [==============================] - 0s 417us/step - loss: 0.3430 - accuracy: 0.8593\n",
      "Epoch 23/100\n",
      "250/250 [==============================] - 0s 416us/step - loss: 0.3425 - accuracy: 0.8600\n",
      "Epoch 24/100\n",
      "250/250 [==============================] - 0s 418us/step - loss: 0.3420 - accuracy: 0.8595\n",
      "Epoch 25/100\n",
      "250/250 [==============================] - 0s 427us/step - loss: 0.3417 - accuracy: 0.8601\n",
      "Epoch 26/100\n",
      "250/250 [==============================] - 0s 420us/step - loss: 0.3410 - accuracy: 0.8589\n",
      "Epoch 27/100\n",
      "250/250 [==============================] - 0s 418us/step - loss: 0.3409 - accuracy: 0.8608\n",
      "Epoch 28/100\n",
      "250/250 [==============================] - 0s 422us/step - loss: 0.3405 - accuracy: 0.8608\n",
      "Epoch 29/100\n",
      "250/250 [==============================] - 0s 430us/step - loss: 0.3401 - accuracy: 0.8602\n",
      "Epoch 30/100\n",
      "250/250 [==============================] - 0s 418us/step - loss: 0.3397 - accuracy: 0.8619\n",
      "Epoch 31/100\n",
      "250/250 [==============================] - 0s 421us/step - loss: 0.3396 - accuracy: 0.8614\n",
      "Epoch 32/100\n",
      "250/250 [==============================] - 0s 422us/step - loss: 0.3388 - accuracy: 0.8610\n",
      "Epoch 33/100\n",
      "250/250 [==============================] - 0s 415us/step - loss: 0.3385 - accuracy: 0.8615\n",
      "Epoch 34/100\n",
      "250/250 [==============================] - 0s 413us/step - loss: 0.3391 - accuracy: 0.8600\n",
      "Epoch 35/100\n",
      "250/250 [==============================] - 0s 418us/step - loss: 0.3384 - accuracy: 0.8596\n",
      "Epoch 36/100\n",
      "250/250 [==============================] - 0s 421us/step - loss: 0.3382 - accuracy: 0.8620\n",
      "Epoch 37/100\n",
      "250/250 [==============================] - 0s 426us/step - loss: 0.3379 - accuracy: 0.8620\n",
      "Epoch 38/100\n",
      "250/250 [==============================] - 0s 425us/step - loss: 0.3373 - accuracy: 0.8629\n",
      "Epoch 39/100\n",
      "250/250 [==============================] - 0s 422us/step - loss: 0.3370 - accuracy: 0.8621\n",
      "Epoch 40/100\n",
      "250/250 [==============================] - 0s 423us/step - loss: 0.3370 - accuracy: 0.8618\n",
      "Epoch 41/100\n",
      "250/250 [==============================] - 0s 419us/step - loss: 0.3366 - accuracy: 0.8618\n",
      "Epoch 42/100\n",
      "250/250 [==============================] - 0s 423us/step - loss: 0.3371 - accuracy: 0.8612\n",
      "Epoch 43/100\n",
      "250/250 [==============================] - 0s 423us/step - loss: 0.3360 - accuracy: 0.8612\n",
      "Epoch 44/100\n",
      "250/250 [==============================] - 0s 415us/step - loss: 0.3364 - accuracy: 0.8637\n",
      "Epoch 45/100\n",
      "250/250 [==============================] - 0s 420us/step - loss: 0.3357 - accuracy: 0.8620\n",
      "Epoch 46/100\n",
      "250/250 [==============================] - 0s 418us/step - loss: 0.3361 - accuracy: 0.8615\n",
      "Epoch 47/100\n",
      "250/250 [==============================] - 0s 417us/step - loss: 0.3355 - accuracy: 0.8630\n",
      "Epoch 48/100\n",
      "250/250 [==============================] - 0s 424us/step - loss: 0.3351 - accuracy: 0.8627\n",
      "Epoch 49/100\n",
      "250/250 [==============================] - 0s 419us/step - loss: 0.3352 - accuracy: 0.8636\n",
      "Epoch 50/100\n",
      "250/250 [==============================] - 0s 419us/step - loss: 0.3350 - accuracy: 0.8612\n",
      "Epoch 51/100\n",
      "250/250 [==============================] - 0s 412us/step - loss: 0.3349 - accuracy: 0.8614\n",
      "Epoch 52/100\n",
      "250/250 [==============================] - 0s 426us/step - loss: 0.3347 - accuracy: 0.8615\n",
      "Epoch 53/100\n",
      "250/250 [==============================] - 0s 419us/step - loss: 0.3346 - accuracy: 0.8631\n",
      "Epoch 54/100\n",
      "250/250 [==============================] - 0s 414us/step - loss: 0.3340 - accuracy: 0.8636\n",
      "Epoch 55/100\n",
      "250/250 [==============================] - 0s 423us/step - loss: 0.3338 - accuracy: 0.8618\n",
      "Epoch 56/100\n",
      "250/250 [==============================] - 0s 417us/step - loss: 0.3341 - accuracy: 0.8639\n",
      "Epoch 57/100\n",
      "250/250 [==============================] - 0s 424us/step - loss: 0.3342 - accuracy: 0.8620\n",
      "Epoch 58/100\n",
      "250/250 [==============================] - 0s 418us/step - loss: 0.3336 - accuracy: 0.8614\n",
      "Epoch 59/100\n",
      "250/250 [==============================] - 0s 412us/step - loss: 0.3338 - accuracy: 0.8636\n",
      "Epoch 60/100\n",
      "250/250 [==============================] - 0s 427us/step - loss: 0.3335 - accuracy: 0.8636\n",
      "Epoch 61/100\n",
      "250/250 [==============================] - 0s 422us/step - loss: 0.3334 - accuracy: 0.8633\n",
      "Epoch 62/100\n",
      "250/250 [==============================] - 0s 421us/step - loss: 0.3337 - accuracy: 0.8619\n",
      "Epoch 63/100\n",
      "250/250 [==============================] - 0s 424us/step - loss: 0.3335 - accuracy: 0.8633\n",
      "Epoch 64/100\n",
      "250/250 [==============================] - 0s 421us/step - loss: 0.3331 - accuracy: 0.8630\n",
      "Epoch 65/100\n",
      "250/250 [==============================] - 0s 426us/step - loss: 0.3330 - accuracy: 0.8626\n",
      "Epoch 66/100\n",
      "250/250 [==============================] - 0s 422us/step - loss: 0.3327 - accuracy: 0.8633\n",
      "Epoch 67/100\n",
      "250/250 [==============================] - 0s 426us/step - loss: 0.3332 - accuracy: 0.8624\n",
      "Epoch 68/100\n",
      "250/250 [==============================] - 0s 423us/step - loss: 0.3329 - accuracy: 0.8630\n",
      "Epoch 69/100\n",
      "250/250 [==============================] - 0s 424us/step - loss: 0.3326 - accuracy: 0.8624\n",
      "Epoch 70/100\n",
      "250/250 [==============================] - 0s 431us/step - loss: 0.3326 - accuracy: 0.8631\n",
      "Epoch 71/100\n",
      "250/250 [==============================] - 0s 423us/step - loss: 0.3327 - accuracy: 0.8641\n",
      "Epoch 72/100\n",
      "250/250 [==============================] - 0s 425us/step - loss: 0.3327 - accuracy: 0.8639\n",
      "Epoch 73/100\n",
      "250/250 [==============================] - 0s 420us/step - loss: 0.3323 - accuracy: 0.8643\n",
      "Epoch 74/100\n",
      "250/250 [==============================] - 0s 430us/step - loss: 0.3331 - accuracy: 0.8629\n",
      "Epoch 75/100\n",
      "250/250 [==============================] - 0s 425us/step - loss: 0.3320 - accuracy: 0.8620\n",
      "Epoch 76/100\n",
      "250/250 [==============================] - 0s 418us/step - loss: 0.3320 - accuracy: 0.8618\n",
      "Epoch 77/100\n",
      "250/250 [==============================] - 0s 427us/step - loss: 0.3326 - accuracy: 0.8626\n",
      "Epoch 78/100\n",
      "250/250 [==============================] - 0s 422us/step - loss: 0.3323 - accuracy: 0.8641\n",
      "Epoch 79/100\n"
     ]
    },
    {
     "name": "stdout",
     "output_type": "stream",
     "text": [
      "250/250 [==============================] - 0s 424us/step - loss: 0.3319 - accuracy: 0.8640\n",
      "Epoch 80/100\n",
      "250/250 [==============================] - 0s 422us/step - loss: 0.3318 - accuracy: 0.8620\n",
      "Epoch 81/100\n",
      "250/250 [==============================] - 0s 426us/step - loss: 0.3321 - accuracy: 0.8625\n",
      "Epoch 82/100\n",
      "250/250 [==============================] - 0s 418us/step - loss: 0.3316 - accuracy: 0.8634\n",
      "Epoch 83/100\n",
      "250/250 [==============================] - 0s 416us/step - loss: 0.3316 - accuracy: 0.8636\n",
      "Epoch 84/100\n",
      "250/250 [==============================] - 0s 426us/step - loss: 0.3316 - accuracy: 0.8630\n",
      "Epoch 85/100\n",
      "250/250 [==============================] - 0s 422us/step - loss: 0.3319 - accuracy: 0.8631\n",
      "Epoch 86/100\n",
      "250/250 [==============================] - 0s 430us/step - loss: 0.3318 - accuracy: 0.8631\n",
      "Epoch 87/100\n",
      "250/250 [==============================] - 0s 426us/step - loss: 0.3315 - accuracy: 0.8648\n",
      "Epoch 88/100\n",
      "250/250 [==============================] - 0s 430us/step - loss: 0.3314 - accuracy: 0.8637\n",
      "Epoch 89/100\n",
      "250/250 [==============================] - 0s 418us/step - loss: 0.3318 - accuracy: 0.8635\n",
      "Epoch 90/100\n",
      "250/250 [==============================] - 0s 431us/step - loss: 0.3311 - accuracy: 0.8627\n",
      "Epoch 91/100\n",
      "250/250 [==============================] - 0s 421us/step - loss: 0.3319 - accuracy: 0.8640\n",
      "Epoch 92/100\n",
      "250/250 [==============================] - 0s 418us/step - loss: 0.3319 - accuracy: 0.8633\n",
      "Epoch 93/100\n",
      "250/250 [==============================] - 0s 426us/step - loss: 0.3312 - accuracy: 0.8633\n",
      "Epoch 94/100\n",
      "250/250 [==============================] - 0s 420us/step - loss: 0.3307 - accuracy: 0.8622\n",
      "Epoch 95/100\n",
      "250/250 [==============================] - 0s 426us/step - loss: 0.3315 - accuracy: 0.8626\n",
      "Epoch 96/100\n",
      "250/250 [==============================] - 0s 425us/step - loss: 0.3314 - accuracy: 0.8627\n",
      "Epoch 97/100\n",
      "250/250 [==============================] - 0s 434us/step - loss: 0.3315 - accuracy: 0.8634\n",
      "Epoch 98/100\n",
      "250/250 [==============================] - 0s 444us/step - loss: 0.3307 - accuracy: 0.8635\n",
      "Epoch 99/100\n",
      "250/250 [==============================] - 0s 438us/step - loss: 0.3311 - accuracy: 0.8637\n",
      "Epoch 100/100\n",
      "250/250 [==============================] - 0s 436us/step - loss: 0.3312 - accuracy: 0.8646\n"
     ]
    },
    {
     "data": {
      "text/plain": [
       "<keras.callbacks.History at 0x18c74170f10>"
      ]
     },
     "execution_count": 17,
     "metadata": {},
     "output_type": "execute_result"
    }
   ],
   "source": [
    "#Batch_size -> Denotes whether you want batch learning (32 is the default number)\n",
    "ann.fit(X_train, y_train, batch_size = 32, epochs = 100)"
   ]
  },
  {
   "cell_type": "markdown",
   "id": "f9a5f6f9",
   "metadata": {},
   "source": [
    "Training Accuracy = 0.8646, loss function converged at 0.33"
   ]
  },
  {
   "cell_type": "code",
   "execution_count": 49,
   "id": "f5b06aa9",
   "metadata": {},
   "outputs": [
    {
     "data": {
      "text/plain": [
       "array([[False],\n",
       "       [False],\n",
       "       [False],\n",
       "       ...,\n",
       "       [False],\n",
       "       [False],\n",
       "       [False]])"
      ]
     },
     "execution_count": 49,
     "metadata": {},
     "output_type": "execute_result"
    }
   ],
   "source": [
    "y_pred = ann.predict(X_test)\n",
    "y_actual = np.array(y_test == 1).reshape(len(y_test), 1)\n",
    "y_pred = (y_pred > 0.5)"
   ]
  },
  {
   "cell_type": "code",
   "execution_count": 53,
   "id": "cac22e7f",
   "metadata": {},
   "outputs": [
    {
     "name": "stdout",
     "output_type": "stream",
     "text": [
      "[[1527  210]\n",
      " [  68  195]]\n",
      "Test Accuracy = 0.861\n"
     ]
    }
   ],
   "source": [
    "from sklearn.metrics import confusion_matrix, accuracy_score\n",
    "print(confusion_matrix(y_pred,y_actual))\n",
    "print('Test Accuracy = {}'.format(accuracy_score(y_pred, y_actual)))"
   ]
  },
  {
   "cell_type": "code",
   "execution_count": null,
   "id": "e2d1b760",
   "metadata": {},
   "outputs": [],
   "source": []
  },
  {
   "cell_type": "code",
   "execution_count": null,
   "id": "df47a9fa",
   "metadata": {},
   "outputs": [],
   "source": []
  },
  {
   "cell_type": "code",
   "execution_count": null,
   "id": "82c10759",
   "metadata": {},
   "outputs": [],
   "source": []
  }
 ],
 "metadata": {
  "kernelspec": {
   "display_name": "Python 3 (ipykernel)",
   "language": "python",
   "name": "python3"
  },
  "language_info": {
   "codemirror_mode": {
    "name": "ipython",
    "version": 3
   },
   "file_extension": ".py",
   "mimetype": "text/x-python",
   "name": "python",
   "nbconvert_exporter": "python",
   "pygments_lexer": "ipython3",
   "version": "3.9.7"
  }
 },
 "nbformat": 4,
 "nbformat_minor": 5
}
